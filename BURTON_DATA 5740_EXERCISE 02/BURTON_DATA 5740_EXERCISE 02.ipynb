{
 "metadata": {
  "kernelspec": {
   "display_name": "Streamlit Notebook",
   "name": "streamlit"
  },
  "lastEditStatus": {
   "notebookId": "vtkhw4gzgasqagji7oy2",
   "authorId": "8092773048432",
   "authorName": "NWBURTON",
   "authorEmail": "burton.n.w@wustl.edu",
   "sessionId": "942fb2b1-c399-49cf-887f-e466ff3fa061",
   "lastEditTime": 1757387442924
  }
 },
 "nbformat_minor": 5,
 "nbformat": 4,
 "cells": [
  {
   "cell_type": "markdown",
   "id": "61077504-4bb2-4ebc-8cad-45dcbff0099b",
   "metadata": {
    "name": "section01_01_02",
    "collapsed": false
   },
   "source": "**Section 1: Using SQL and Python in Snowflake**\n\n1. Add the Sample Movie Rental Database from Planet Data to your Snowflake account using the Snowflake Marketplace.\n2. Write a query to return a dataset with film and rental, and payment information. Your dataset should have multiple rows per film, one for each time the film was rented and the amount spend on each rental. Create a dataframe with this information.\n3. Create a dataframe from the customer table."
  },
  {
   "cell_type": "code",
   "id": "1dc92a39-1f9f-409c-a9aa-12ae287f771b",
   "metadata": {
    "language": "sql",
    "name": "rentals"
   },
   "outputs": [],
   "source": "use database MOVIES_5740;\n\n\nSELECT\n    f.FILM_ID,\n    f.TITLE,\n    f.DESCRIPTION,\n    f.RELEASE_YEAR,\n    f.RENTAL_DURATION,\n    f.RENTAL_RATE,\n    f.LENGTH,\n    f.MPAA_RATING,\n    f.FULLTEXT,\n    r.CUSTOMER_ID,\n    r.RENTAL_ID,\n    r.RENTAL_DATE,\n    r.RETURN_DATE,\n    p.CUSTOMER_ID,\n    p.PAYMENT_ID,\n    p.PAYMENT_DATE,\n    p.AMOUNT\nFROM FILM f\nJOIN INVENTORY i\n    ON f.FILM_ID = i.FILM_ID\nJOIN RENTAL r\n    ON i.INVENTORY_ID = r.INVENTORY_ID\nJOIN PAYMENT p\n    ON r.RENTAL_ID = p.RENTAL_ID\nORDER BY f.FILM_ID",
   "execution_count": null
  },
  {
   "cell_type": "code",
   "id": "89b1702a-7dc5-4dcf-bf59-8c02e21d095a",
   "metadata": {
    "language": "python",
    "name": "convert_to_df",
    "codeCollapsed": false
   },
   "outputs": [],
   "source": "rentals_df = rentals.to_pandas()",
   "execution_count": null
  },
  {
   "cell_type": "code",
   "id": "58a87834-3018-4a22-8d80-041d6bbb1c45",
   "metadata": {
    "language": "sql",
    "name": "customers"
   },
   "outputs": [],
   "source": "use database MOVIES_5740;\n\nSELECT * FROM CUSTOMER;",
   "execution_count": null
  },
  {
   "cell_type": "code",
   "id": "21fe5f39-1acc-4184-941e-f86a304c58cc",
   "metadata": {
    "language": "python",
    "name": "convert_to_df_01",
    "codeCollapsed": false
   },
   "outputs": [],
   "source": "customers_df = customers.to_pandas()",
   "execution_count": null
  },
  {
   "cell_type": "markdown",
   "id": "057631d4-d348-4143-9d33-2f088a1bc3d4",
   "metadata": {
    "name": "section02",
    "collapsed": false
   },
   "source": "**Section 2: Manipulating dataframes**\n\n1. Create a column for customer name that has the first name and last name in the same column.\n2. Remove any inactive customers from the dataframe\n\n    *Hint: use the active field*\n3. Change the email addresses to be 'joe.person@wustl.edu', but only when their store_id is an even number\n\n    *Hint: use apply to run a function over the dataframe, don't forget to select the correct axis*"
  },
  {
   "cell_type": "code",
   "id": "e1e0d5ab-a63a-4197-af61-128bd233d95a",
   "metadata": {
    "language": "python",
    "name": "cell2"
   },
   "outputs": [],
   "source": "# Create a column name that has the first name and the\n# last name in the same column\ncustomers_df['FULL_NAME'] = customers_df['FIRST_NAME'] + ' ' + customers_df['LAST_NAME']\n\n# Remove any inactive customers from the dataframe\ncustomers_df = customers_df[customers_df['ACTIVE'] == 1]\n\n# Change the email addresses to be 'joe.person@wustl.edu'\ncustomers_df['EMAIL'] = customers_df.apply(\n        lambda row: \"joe.person@wustl.edu\" if row[\"STORE_ID\"]%2 == 0 else row['EMAIL'],\n        axis=1)\n\ncustomers_df.head() #check",
   "execution_count": null
  },
  {
   "cell_type": "markdown",
   "id": "98da2238-87ae-4c0f-baeb-71e8846406e0",
   "metadata": {
    "name": "section03",
    "collapsed": false
   },
   "source": "**Section 3: Visualizations**\n\n1. How much does each customer tend to spend in aggregate?\n\n    *Clarification: You want to first create total spend by customer, then you want to visualize that distribution, each customer being an observation. A box and whisker plot would be a good visualization.*"
  },
  {
   "cell_type": "code",
   "id": "7d2426ad-70a4-46b8-95de-ff527209aa67",
   "metadata": {
    "language": "python",
    "name": "spend_per_customer"
   },
   "outputs": [],
   "source": "import seaborn as sns\nimport matplotlib.pyplot as plt\n\n# calculate total spend by customer\ncustomer_total_spend = rentals_df.groupby(\"CUSTOMER_ID\")[\"AMOUNT\"].sum().reset_index()\ncustomer_total_spend.rename(columns = {\"AMOUNT\": \"TOTAL_SPEND\"}, inplace=True)\ncustomer_total_spend = customer_total_spend.merge(\n    customers_df[['CUSTOMER_ID','FULL_NAME']],\n    on=\"CUSTOMER_ID\",\n    how=\"left\"\n)\ncustomer_total_spend = customer_total_spend[['CUSTOMER_ID', 'FULL_NAME', 'TOTAL_SPEND']]\n\n# calculate quartiles for labels\nQ1 = customer_total_spend[\"TOTAL_SPEND\"].quantile(0.25)\nmedian = customer_total_spend[\"TOTAL_SPEND\"].quantile(0.5)\nQ3 = customer_total_spend[\"TOTAL_SPEND\"].quantile(0.75)\n\n# Create plot\nsns.boxplot(y=\"TOTAL_SPEND\", data=customer_total_spend)\n\n# Add labels\nplt.text(0, Q1, f'Q1: {round(Q1,2)}', ha='center', va='center', backgroundcolor = 'white', fontsize = 'small')\nplt.text(0, median, f'MEDIAN: {round(median,2)}', ha='center', va='center', backgroundcolor = 'white', fontsize = 'small')\nplt.text(0, Q3, f'Q3: {round(Q3,2)}', ha='center', va='center', backgroundcolor = 'white', fontsize = 'small')\n\nplt.title(\"Distribution of Total Spend per Customer\")\nplt.ylabel(\"Total Spend ($)\")\nplt.show();",
   "execution_count": null
  },
  {
   "cell_type": "markdown",
   "id": "a150c49d-1c1f-46ea-bfd8-e6dd8958f444",
   "metadata": {
    "name": "cell1",
    "collapsed": false
   },
   "source": "The median customer spends a total of 98.82 on movie rentals. 50% of the customers (within the innerquartile range) spend between 84.80 and 116.73 total on rentals."
  },
  {
   "cell_type": "markdown",
   "id": "b2cfddf4-4144-4abc-848b-a062827f7dbd",
   "metadata": {
    "name": "section03_02",
    "collapsed": false
   },
   "source": "2. What does the distribution of film revenue look like?\n\n    *Clarification: You want to first calculate the revenue by film, you can sum the rental rate for each instance that the film was rented using the dataframe you created in section 1 part 2. A histogram would be a good visualization*"
  },
  {
   "cell_type": "code",
   "id": "2db78cd4-2618-4d6c-842e-b55e7286c442",
   "metadata": {
    "language": "python",
    "name": "revenue_per_film"
   },
   "outputs": [],
   "source": "film_revenue = rentals_df.groupby(\"FILM_ID\")[\"RENTAL_RATE\"].sum().reset_index()\nfilm_revenue.rename(columns = {\"RENTAL_RATE\": \"TOTAL_REVENUE\"}, inplace=True)\nfilm_revenue = film_revenue.merge(\n    rentals_df[[\"FILM_ID\", \"TITLE\"]].drop_duplicates(),\n    on=\"FILM_ID\",\n    how=\"left\"\n)\nfilm_revenue = film_revenue[['FILM_ID', 'TITLE', 'TOTAL_REVENUE']]\n\n# Create histogram\nplt.figure(figsize = (10,6))\nplt.hist(film_revenue['TOTAL_REVENUE'], bins=30, edgecolor = 'black')\nplt.title(\"Distribution of Total Revenue per Film\")\nplt.xlabel(\"Total Revenue\")\nplt.ylabel(\"Number of Films\")\nplt.grid(axis='y', alpha=0.75)\nplt.show()",
   "execution_count": null
  },
  {
   "cell_type": "markdown",
   "id": "0f67200b-1de4-4c6d-b9ed-aa6937be31a1",
   "metadata": {
    "name": "cell9",
    "collapsed": false
   },
   "source": "The majority of films generate between 0 and 60 in total revenue. After 60, the number of films tapers off, with a few generating up to 140 or higher."
  },
  {
   "cell_type": "markdown",
   "id": "a0d9676e-09c3-4950-948a-6aff0275d92f",
   "metadata": {
    "name": "section04",
    "collapsed": false
   },
   "source": "**Section 4: Analysis**\n\n*Clarification: You do not need to use a statistical test to answer the following questions. Please use a visualization and interpret what you see. Note the averages, counts, or sums where applicable, and the interpretation.*\n\n1. On average, is the rental rate the same across movie ratings, treat each film as an observation?"
  },
  {
   "cell_type": "code",
   "id": "fbbdb708-96b5-4b84-8e83-835e03fa35e5",
   "metadata": {
    "language": "python",
    "name": "rental_rates"
   },
   "outputs": [],
   "source": "# first, group the films by film_id and get the rental rate\n# use first() because you only want one per row and the rental rate only once\nfilm_rates = rentals_df.groupby([\"FILM_ID\",\"TITLE\",\"MPAA_RATING\"])[\"RENTAL_RATE\"].first().reset_index()\n\n# then average the rental rate for all films across each rating\navg_by_rating = film_rates.groupby(\"MPAA_RATING\")[\"RENTAL_RATE\"].mean().reset_index()\navg_by_rating.head()\n\nplt.figure(figsize=(8,6))\nsns.barplot(data=avg_by_rating, x=\"MPAA_RATING\", y=\"RENTAL_RATE\")\nplt.title(\"Average Rental Rate by MPAA Rating\")\nplt.ylabel(\"Average Rental Rate\")\nplt.xlabel(\"Rating\")\nplt.show()",
   "execution_count": null
  },
  {
   "cell_type": "markdown",
   "id": "8556ee58-5370-4f54-a0c9-9b6a5b9c28ef",
   "metadata": {
    "name": "cell10",
    "collapsed": false
   },
   "source": "Based on the visualization, there does not appear to be a difference in rental rates between film ratings. Of course a test of statistical significance would be required to provide a definitive answer, but the average rates appear similar across all film ratings."
  },
  {
   "cell_type": "markdown",
   "id": "f96b22a6-63bd-4b93-9ddf-969677edbb78",
   "metadata": {
    "name": "section04_02",
    "collapsed": false
   },
   "source": "2. Across the various film ratings, are we observing the same number of movies rented at store 2 and store 1?"
  },
  {
   "cell_type": "code",
   "id": "5c5c4e06-0bae-4b69-86f1-5a4a2a994b94",
   "metadata": {
    "language": "python",
    "name": "store_comparison"
   },
   "outputs": [],
   "source": "# join the customers table with the rentals table to get the store ID\nrentals_with_store = rentals_df.merge(\n    customers_df[[\"CUSTOMER_ID\", \"STORE_ID\"]],\n    on=\"CUSTOMER_ID\",\n    how=\"left\"\n)\n\n\n# count the rentals per store ID and rating\nrental_counts = (\n    rentals_with_store\n    .groupby([\"STORE_ID\", \"MPAA_RATING\"])[\"RENTAL_ID\"]\n    .count()\n    .reset_index(name=\"RENTAL_COUNT\")\n)\n\nplt.figure(figsize=(10,6))\nsns.barplot(\n    data=rental_counts,\n    x=\"MPAA_RATING\",\n    y=\"RENTAL_COUNT\",\n    hue=\"STORE_ID\"\n)\n\nplt.title(\"Number of Rentals by Movie Rating at Each Store\")\nplt.xlabel(\"MPAA Rating\")\nplt.ylabel(\"Number of Rentals\")\nplt.legend(title=\"MPAA Rating\")\nplt.show()",
   "execution_count": null
  },
  {
   "cell_type": "markdown",
   "id": "82d3d812-296f-43cb-b24d-e35c4e1ff962",
   "metadata": {
    "name": "cell3",
    "collapsed": false
   },
   "source": "Across all film ratings, Store 1 has more movies rented than store 2."
  },
  {
   "cell_type": "markdown",
   "id": "60720c2b-1d9a-487e-a439-90764592f048",
   "metadata": {
    "name": "section04_03",
    "collapsed": false
   },
   "source": "3. On average, do films with a character of a 'robot' generate the same amount of revenue (use rental rate) as films that feature a 'teacher'?\n\n    *Hint: sum the rental rate by film across rentals to get revenue by film*"
  },
  {
   "cell_type": "code",
   "id": "0fb0fdf2-a858-4cb5-b5d4-ca83eeea4c4e",
   "metadata": {
    "language": "python",
    "name": "robots_vs_teachers"
   },
   "outputs": [],
   "source": "# create flags for movies with robots and teachers\nrentals_df['HAS_ROBOT'] = rentals_df['DESCRIPTION'].str.contains('robot', case=False, na=False)\nrentals_df['HAS_TEACHER'] = rentals_df['DESCRIPTION'].str.contains('teacher', case=False, na=False)\n\n# calculate total revenue per film\n# pull in the robot and teacher flags\nfilm_revenue = rentals_df.groupby(['FILM_ID', 'TITLE']).agg({\n    'RENTAL_RATE': 'sum',\n    'HAS_ROBOT': 'max',    # True if any row for that film has a robot\n    'HAS_TEACHER': 'max'   # True if any row for that film has a teacher\n}).reset_index()\n\n# find the average for each character type\navg_robot_revenue = film_revenue[film_revenue['HAS_ROBOT']]['RENTAL_RATE'].mean()\navg_teacher_revenue = film_revenue[film_revenue['HAS_TEACHER']]['RENTAL_RATE'].mean()\navg_all = film_revenue['RENTAL_RATE'].mean()\n\n# plot results\nrevenues = [avg_robot_revenue, avg_teacher_revenue, avg_all]\nlabels = ['Robot', 'Teacher', 'All Films']\n\nbars = plt.bar(labels, revenues, color=['skyblue', 'lightgreen', 'black'])\nplt.ylabel('Average Revenue')\nplt.title('Average Revenue by Character Type')\n\n# Add labels on top of bars\nplt.bar_label(bars, fmt='%.2f')\n\nplt.show()",
   "execution_count": null
  },
  {
   "cell_type": "markdown",
   "id": "08c409f6-e6c5-4930-89d0-cb766588bec5",
   "metadata": {
    "name": "cell4",
    "collapsed": false
   },
   "source": "It looks like both robot and teacher films generate slightly below average revenues. Without doing a statistical test, I can't say that the difference is or is not significant, but based on my own judgement, there doesn't appear to be a strong difference between revenues generated by the two character types."
  },
  {
   "cell_type": "markdown",
   "id": "4b72221d-8d13-499a-a75e-0ee3cae49bd7",
   "metadata": {
    "name": "section05",
    "collapsed": false
   },
   "source": "**Section 5: Analysis**\n\nIts late 2005, and your boss at the DVD rental company wants to know how effective his customer promotion program was. He tells you, 'I want you to give me some descriptive information about how much the customers spent before and after the program started. Were the spending habits similar? Did they differ? Did the program help or make things worse?'\n\n    1. What is the outcome?\n    2. What is the main effect/predictor he wants to understand the impact of?\n    3. What is the hypothesis?\n\nLucky for you, your boss already asked Ted in Bethesda to give you a query for how to get the information.\n\nPlus, the statistician you work with has some suggestions for how to give your boss what he wants. Query the data from your container and put it in a Pandas dataframe. Then follow the statistician's suggestions.\n\n    4. Compute summary statistics and create histrograms of the payment_before and payment_after variables. (Try using describe in pandas)\n    5. Compute the correlation between these two variables and create a scatter plot\n    6. Compute a variable which is the difference between the amounts spent before and after the program started: payment_after - payment_before\n    7. Generate a histogram of the difference and conduct a one-sample t-test\n    8. Interpret your results."
  },
  {
   "cell_type": "markdown",
   "id": "be255755-4423-475e-9667-64f735f6b2bd",
   "metadata": {
    "name": "cell5",
    "collapsed": false
   },
   "source": "1. The outcome for this question is customer spending after the program started. We want to determine if there was significant change in spending habits. This will be measured by the variable PAYMENT_AFTER.\n2. The main effect/predictor is customer promotion program. We have a date for the program start (7/1/2005) and we will measure that to determine the effect (or if there is one) of the program.\n3. The hypothesis in this case is that customer spending changed after the start of the program. In statistical terms, the null hypothesis will be that the program did not change spending and the alternative hypothesis will be that spending changed after the introduction of the promotion program."
  },
  {
   "cell_type": "code",
   "id": "ca1d5ee3-04da-4627-baa1-daf170e59d12",
   "metadata": {
    "language": "sql",
    "name": "query"
   },
   "outputs": [],
   "source": "with b4 as (\n    select p.customer_id, sum(p.amount) as Payment_before\n    from rental r \n    left outer join payment p on p.rental_id = r.rental_id\n    where rental_date < cast('2005-07-01' as timestamp) and\n        amount is not null\n    group by p.customer_id),\naft as (\n    select p.customer_id, sum(p.amount) as Payment_after\n    from rental r \n    left outer join payment p on p.rental_id = r.rental_id\n    where rental_date >= cast('2005-07-01' as timestamp) and\n        amount is not null\n    group by p.customer_id\n)\nselect distinct c.customer_id, store_id, first_name, last_name,\n    active, payment_before, payment_after\nfrom customer c\nleft outer join b4 r on r.customer_id = c.customer_id\nleft outer join aft a on a.customer_id = c.customer_id\nwhere payment_after is not null and payment_before is not null;\n",
   "execution_count": null
  },
  {
   "cell_type": "code",
   "id": "370382df-3f06-42ec-bb32-37d2016d1a0b",
   "metadata": {
    "language": "python",
    "name": "cell6"
   },
   "outputs": [],
   "source": "# convert query to dataframe\ndf = query.to_pandas()\n\n# 4. compute summary statistics and create histogram\nsummary_stats = df[['PAYMENT_BEFORE', 'PAYMENT_AFTER']].describe()\nprint(summary_stats)\n\n# create histogram showing the spending habits of customers\nplt.figure(figsize=(10,5))\nplt.hist(df['PAYMENT_BEFORE'], bins=20, alpha=0.5, label='Before')\nplt.hist(df['PAYMENT_AFTER'], bins=20, alpha=0.5, label='After')\nplt.xlabel('Payment Amount')\nplt.ylabel('Number of Customers')\nplt.title('Histogram of Payments Before and After Promotion')\nplt.legend()\nplt.show()",
   "execution_count": null
  },
  {
   "cell_type": "code",
   "id": "eb94713f-0b25-494b-80ea-eb69c8cd4ba9",
   "metadata": {
    "language": "python",
    "name": "section_05z_cont",
    "collapsed": false,
    "codeCollapsed": false
   },
   "outputs": [],
   "source": "# 5. compute the correlation between these two variables\ncorrelation = df['PAYMENT_BEFORE'].corr(df['PAYMENT_AFTER'])\nprint(\"Correlation between payments before and after:\", correlation)\n\n# create a scatter plot\nplt.scatter(df['PAYMENT_BEFORE'], df['PAYMENT_AFTER'], alpha=0.5)\nplt.xlabel('Payment Before')\nplt.ylabel('Payment After')\nplt.title('Scatter plot of Before vs After payments')\nplt.show()\n",
   "execution_count": null
  },
  {
   "cell_type": "code",
   "id": "d04f2aa8-a33f-4af3-b472-68ac39fce424",
   "metadata": {
    "language": "python",
    "name": "cell7"
   },
   "outputs": [],
   "source": "from scipy import stats\n\n# 6. compute the difference between payment before and after\ndf['DELTA_SPEND'] = df['PAYMENT_AFTER'] - df['PAYMENT_BEFORE']\n\n# 7. generate a histogram of the differences\nplt.hist(df['DELTA_SPEND'], bins=20, alpha=0.7)\nplt.xlabel('Payment After - Payment Before')\nplt.ylabel('Number of Customers')\nplt.title('Histogram of Payment Differences')\nplt.show()\n\n# conduct a one sample t-test\nt_stat, p_value = stats.ttest_1samp(df['DELTA_SPEND'], 0)\nprint(\"t-statistic:\", t_stat)\nprint(\"p-value:\", p_value)",
   "execution_count": null
  },
  {
   "cell_type": "markdown",
   "id": "4a28e5b4-26bf-4f53-a814-a6dce6f93151",
   "metadata": {
    "name": "cell8"
   },
   "source": "From the intial histogram, it appears there was an increase in customer spending before and after the start of the program. There did not appear to be a strong correlation in the payment before and after variables from the scatterplot and the correlation coefficient was 0.02, indicating no strong relationship.\n\nNext I calculated the difference between the payment before and after the program start, stored in the variable DELTA_SPEND. To determine if there was a significant change, we want to compare this result to 0 (no change). The t-stat of 65.5 tells us that the mean of the differences was that many errors away from 0 and the p-value tells us that we can reject our null hypothesis and conclude that the promotion program was in fact successful. \n\nIn other words, there **was** a statistically significant increase in customer spending after the introduction of the customer promotion program."
  }
 ]
}