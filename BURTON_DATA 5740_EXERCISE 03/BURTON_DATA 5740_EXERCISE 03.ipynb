{
 "metadata": {
  "kernelspec": {
   "display_name": "Streamlit Notebook",
   "name": "streamlit"
  },
  "lastEditStatus": {
   "notebookId": "ymd7i2m2wbva75kdm5n4",
   "authorId": "8092773048432",
   "authorName": "NWBURTON",
   "authorEmail": "burton.n.w@wustl.edu",
   "sessionId": "bf69a446-cff2-4ee8-bcc4-a131627bc6ae",
   "lastEditTime": 1757799307924
  }
 },
 "nbformat_minor": 5,
 "nbformat": 4,
 "cells": [
  {
   "cell_type": "markdown",
   "id": "929d5dd2-af8a-4dee-bc01-27b0235a0135",
   "metadata": {
    "name": "cell3",
    "collapsed": false
   },
   "source": "A friend of yours owns a frozen drink shop. On hot days, she seems extra happy. She says that she sees a line extending around the block and knows that means more sales. However, even before your friend started the business, she always seemed to love summer and thrived in the heat, so you think her jubilant attitude might be intrinsic. She makes a bet with you that sales really are higher on hotter days. She gets data on the sales numbers (in dollars) and the daily temperatures (in degrees Fahrenheit).\n1.\tWhat is the outcome?\n2.\tWhat is the main effect/predictor she wants to understand the impact of?\n3.\tWhat is the hypothesis?\n\nUse the data she collected to conduct an analysis, test the hypothesis, and report results. The dataset is drinks.xlsx. Your analysis should have the following elements:\n\n7.\tAn explanation of why the analysis is being conducted and what the hypothesis is\n8.\tDescriptive information about the data, including summary statistics (such as number of observations, measures of central tendency, & measures of dispersion) and plots of the data distributions\n9.\tDescriptive information about the relationships between the two variables, including correlation and scatterplots\n10.\tA regression analysis to test the hypothesis. If you have trouble getting the regression analysis to work, look closely at the data. Your friend wasn’t always able to get sales data for each day. Choose a method to handle rows with missing data.\n11.\tA description of the results of the analysis. Included in this description should be an interpretation of the coefficients, description of the goodness of fit, and a discussion of whether the results are statistically significant."
  },
  {
   "cell_type": "markdown",
   "id": "cbadfd4d-93f1-424f-90c3-4c617a5708e8",
   "metadata": {
    "name": "cell4",
    "collapsed": false
   },
   "source": "1. The outcome we are trying to measure is the difference in sales between hotter days and cooler days. Specifically, we want to test whether sales are increased on hotter days.\n2. The main predictor we are trying to understand the impact of is temperature. She wants to understand if there is a relationship between a change in temperature and a change in sales.\n3. The hypothesis is that higher temperatures lead to higher sales."
  },
  {
   "cell_type": "code",
   "id": "17063310-b589-4758-af91-3f5f3d03740e",
   "metadata": {
    "language": "python",
    "name": "cell1"
   },
   "outputs": [],
   "source": "import pandas as pd\nimport matplotlib.pyplot as plt\nimport statsmodels.api as sm\nimport numpy as np\nimport seaborn as sns\n\ndrinks_df = pd.read_csv('drinks.csv')\ndrinks_df.columns = ['temps','sales']\n\n#summary stats\nprint(drinks_df[['temps','sales']].describe())\n\n#Median\nprint('Median values:')\nprint(drinks_df[['temps', 'sales']].median())\n\n# histograms\n\n#temperature histogram\nplt.hist(drinks_df['temps'], bins = 20, edgecolor = 'navy')\nplt.xlabel('Temperatures')\nplt.ylabel('Frequency')\nplt.title('Distribution of Temperatures')\nplt.show();\n\n# sales histogram\nplt.hist(drinks_df['sales'], bins = 20, edgecolor = 'navy')\nplt.xlabel('Sales')\nplt.ylabel('Frequency')\nplt.title('Distribution of Sales')\nplt.show();",
   "execution_count": null
  },
  {
   "cell_type": "code",
   "id": "84ac42b8-3fa7-43d0-bfe1-23609c636aab",
   "metadata": {
    "language": "python",
    "name": "cell2",
    "codeCollapsed": false
   },
   "outputs": [],
   "source": "# Calculate the correlation between the variables\ncleaned_df = drinks_df.dropna(subset = ['temps','sales'])\n\ncorr = cleaned_df['temps'].corr(cleaned_df['sales'])\nprint(f\"Correlation: {corr:.3f}\")\n\nplt.scatter(cleaned_df['temps'],cleaned_df['sales'])\nplt.title(\"Temperatures vs Sales\")\nplt.xlabel('Temperatures')\nplt.ylabel('Sales')\nplt.show()",
   "execution_count": null
  },
  {
   "cell_type": "code",
   "id": "2117471c-2bef-47cc-9290-7fa6fdeacab4",
   "metadata": {
    "language": "python",
    "name": "cell5",
    "codeCollapsed": false
   },
   "outputs": [],
   "source": "X = cleaned_df['temps']\nY = cleaned_df['sales']\n\n# Add a constant term for the intercept\nX = sm.add_constant(X)\n\n# Ordinary Least Squares Regressions\nmodel = sm.OLS(Y,X).fit()\n\n# Print the regression results\nprint(model.summary())\n\n# Scatter plot with regression line\nsns.lmplot(x='temps', y='sales', data=cleaned_df, height=6, aspect=1.5)\n\nplt.xlabel('Temperature')\nplt.ylabel('Sales ($)')\nplt.title('Sales vs Temperature')\nplt.show()",
   "execution_count": null
  },
  {
   "cell_type": "markdown",
   "id": "974a03e4-f09f-45bb-925f-d372cdabbaa3",
   "metadata": {
    "name": "cell6",
    "collapsed": false
   },
   "source": "We are conducting an analysis to determine whether or not sales are higher at my friends drink business on hotter days. We have a temperature and sales variable, so we can perform this by running a linear regression and interpreting the results.\n\nFirst, we want to take a look at the data, how many rows there are are for each (we can see that there are an uneven amount of values - so we will remove null values later on.) Then we want to get a little bit of information about the relationship between the two variables. We can do this by creating a scatter plot to compere the two values and calculate the correlation coefficient.\n\nAlready from the scatter plot and the histograms, one could guess that we are likely to see a strong relationship between the temperature and sales values. The scatter plot shows a positive relationship in the data, as temperatures get higher, sales get higher. The histograms have a pretty similar spread which tells us that the distributions of the data are similar.\n\nThe correlation coefficient of 0.823 indicates that there is in face a strong, positive relationship between the two variables. After performing the linear regression, we can confirm that sales do in fact increase as temperatures increase. With 95% confidence, we can say that an increase of 1 degree would return an increase in sales between 24.40 and 34.89. The R-Squared statistic is 0.677 - this can be interpreted as saying that 67% of the variance in sales can be explained by the temperature variable, which is good for this problem. The model also produced a low p-value, which tells us that we can conclude that this result is statistically significant. So yes, my friend is correct - hotter days are good for her business."
  }
 ]
}