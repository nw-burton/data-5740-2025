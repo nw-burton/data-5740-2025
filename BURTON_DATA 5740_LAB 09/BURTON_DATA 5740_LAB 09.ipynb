{
 "metadata": {
  "kernelspec": {
   "display_name": "Streamlit Notebook",
   "name": "streamlit"
  },
  "lastEditStatus": {
   "notebookId": "wz7kbgf7ndmjskhl4tjv",
   "authorId": "8092773048432",
   "authorName": "NWBURTON",
   "authorEmail": "burton.n.w@wustl.edu",
   "sessionId": "9f6535de-dabf-42cc-a4c7-e1e6878ba64d",
   "lastEditTime": 1761517349586
  }
 },
 "nbformat_minor": 5,
 "nbformat": 4,
 "cells": [
  {
   "cell_type": "markdown",
   "id": "7a5c6a70-cc57-4402-8880-fdfc5c2daaf1",
   "metadata": {
    "name": "intro",
    "collapsed": false
   },
   "source": "# Lab 09: Planning for Growth at Washington Cafe\n\nCongratulations! You've just gotten your dream student work-study job as a data analyst for Washington Cafe. As you can guess from the name, Washginton Cafe was started by a group of students at Washington University in St. Louis three years ago. At the time, they were ambitious sophomores. Because putting so much of their passion into Washington Cafe took time away from studies, they barely graduated. They love the restaurant, and it's been successful enough that they want to grow it. And they know enough from their studies that the best way to do this will involve gathering insights from the data they've been collecting for the past three years.\n\n**That's where you fit it!**"
  },
  {
   "cell_type": "markdown",
   "id": "afa50632-07cc-4c0c-917d-386c588107bc",
   "metadata": {
    "name": "_1_small_diner",
    "collapsed": false
   },
   "source": "## Chapter 1: The Small Diner\n\nYour first order of business is to just get some plans in place for managing the labor demand for the small diner that Washington Cafe currently is.  You've got weekly labor data from the past two years of business. Each month, it seems like the management team is scrambling to figure out the shift schedule and, more often than not, the dining room is either short on staff or staff are sitting aorund doing nothing. Not the best experience for diners or for the staff.\n\nStart with a simple Auto-Regressive (AR) model to forecase the \"typical\" labor needs. There really isn't much to go on at this point other than previous labor usage, so that's where we'll start."
  },
  {
   "cell_type": "code",
   "id": "fbb12c11-3d8d-41bb-b0ce-5becbaac133e",
   "metadata": {
    "language": "python",
    "name": "imports"
   },
   "outputs": [],
   "source": "import pandas as pd\nimport numpy as np\nimport matplotlib.pyplot as plt\nimport math\n\n# These ACF/PACF plotters from statsmodels are helpful\nfrom statsmodels.graphics.tsaplots import plot_acf, plot_pacf\n\n# From statsmodels, we can load in useful time series analysis tools\nfrom statsmodels.tsa.ar_model import AutoReg\nfrom statsmodels.tsa.arima.model import ARIMA\nfrom statsmodels.tsa.statespace.sarimax import SARIMAX\n\n# And scikit-learn has useful tools for evaluating the usefulness of a model\nfrom sklearn.metrics import mean_absolute_error, mean_squared_error",
   "execution_count": null
  },
  {
   "cell_type": "code",
   "id": "638d15d2-82ce-4cda-a4fa-8bd2bcda51bb",
   "metadata": {
    "language": "python",
    "name": "data_1",
    "codeCollapsed": false
   },
   "outputs": [],
   "source": "# Since we have to read and setup data for each phase...\ndef read_data(file):\n    df = pd.read_csv(file, parse_dates=['week_start_date'])\n    # Convert the start date time and specify that the requency is\n    # \"weekly, starting on Monday\"\n    df = df.set_index('week_start_date').asfreq('W-MON')\n    df.drop(columns='restaurant', inplace=True)\n    return df\n\nlabor1 = read_data('washington_cafe_stage1_diner_2018_2020.csv')\nlabor1.head()",
   "execution_count": null
  },
  {
   "cell_type": "code",
   "id": "1545427e-f70a-4f91-95a6-14e8ef479199",
   "metadata": {
    "language": "python",
    "name": "plot_1",
    "codeCollapsed": false
   },
   "outputs": [],
   "source": "plt.rcParams[\"figure.figsize\"] = (10, 3)\n\n# Create a function to do all the time series plots\ndef ts_plots(df, title):\n    # Visualize time series raw\n    df.plot(title=title)\n    plt.show()\n    \n    # ACF/PACF\n    plot_acf(df, lags=52)\n    plt.show()\n    \n    plot_pacf(df, lags=52, method='ywm')\n    plt.show()\n\n# Do timeline, acf, and pacf\nts_plots(labor1, 'Stage 1 - Diner')",
   "execution_count": null
  },
  {
   "cell_type": "markdown",
   "id": "6c0c1765-70ea-43bf-82d4-406dbc9d62db",
   "metadata": {
    "name": "plot_1_interpret",
    "collapsed": false
   },
   "source": "**Main Plot** - Doesn't seem to be much pattern in the labor hours worked each week. That's consistent with what we've been told: There's limited planning going on and people just work whatever shifts they want. Lots of shortage and lots of excess relative to the actual demand.\n\n**Auto Correlation Function** - The ACF tells us how closely correlated each data point is with the data point that lags by 1, 2, 3, ... 24 time periods. In this case:\n* The ACF drops off immediately\n* There doesn't appear to be any seasonality (with strong bumps as certain points)\n\n**Partial Auto Correlation Function** - The PACF tells us how much each data point is correlated with the lagging data points after taking all other lagging data points into consideration.\n* The PACF just drops off immediately also\n\n\nSo, we can conclude exactly what we expected, there aren't any other hidden patterns to the data. We can simply using a auto-regression model for our planning purposes."
  },
  {
   "cell_type": "code",
   "id": "3268835b-7267-4d9c-ae65-d0fb4ccca18a",
   "metadata": {
    "language": "python",
    "name": "model_1",
    "codeCollapsed": false
   },
   "outputs": [],
   "source": "# Let's reserve our last 10 weeks for the testing period and \n# the other 94 weeks before that for training\nlabor1_train = labor1.iloc[:-10]\nlabor1_test = labor1.iloc[-10:]\n\nar_model = AutoReg(labor1_train, lags=1).fit()\nar_model.summary()",
   "execution_count": null
  },
  {
   "cell_type": "code",
   "id": "2b54d36d-fa08-4714-a00c-3c32bb6743d5",
   "metadata": {
    "language": "python",
    "name": "model_1_eval",
    "codeCollapsed": false
   },
   "outputs": [],
   "source": "pred1 = ar_model.predict(start=labor1_test.index[0], end=labor1_test.index[-1])\n\nmae = mean_absolute_error(labor1_test, pred1)\nrmse = math.sqrt(mean_squared_error(labor1_test, pred1))\n\nprint(f'Mean Absolute Error:     {mae}')\nprint(f'Root Mean Squared Error: {rmse}')",
   "execution_count": null
  },
  {
   "cell_type": "code",
   "id": "6925bb31-c4ee-4485-81f8-9110147204a3",
   "metadata": {
    "language": "python",
    "name": "plot_1_predict",
    "codeCollapsed": false
   },
   "outputs": [],
   "source": "# Plot forecast vs actual\ndef plot_predict(df_train, df_test, df_pred, title):\n    plt.plot(df_train.index, df_train.values, label='train')\n    plt.plot(df_test.index, df_test.values, label='test')\n    plt.plot(df_pred.index, df_pred.values, label='forecast')\n    plt.title(title)\n    plt.legend(); plt.show()\n\nplot_predict(labor1_train, labor1_test, pred1, 'Stage 1 - AR Forecast')",
   "execution_count": null
  },
  {
   "cell_type": "markdown",
   "id": "b677e475-4136-479d-a386-23b9ff2ce312",
   "metadata": {
    "name": "predict1_interpret",
    "collapsed": false
   },
   "source": "The actual test data observations (orange) bounce all of the place just like the training data observations.  Our model doesn't know much better that to basically repeat whatever it saw yesterday.  So, you tell the management team to just look at the average over the past year and plan on that being the go-forward plan... for now."
  },
  {
   "cell_type": "markdown",
   "id": "8e316bbd-eb64-4341-a152-8a71de9ece78",
   "metadata": {
    "name": "_2_local_fave",
    "collapsed": false
   },
   "source": "## 2. Washington Cafe is becoming a local favorite\n\nAfter another year, you decide to reevalute the labor trends. You've had lots of other projects going on around favorite dishes, where patrons are coming from, cost of ingredients. But now it's time to look back at the labor trends again.  You decide to look at the ACF and PACF again as a starting point."
  },
  {
   "cell_type": "code",
   "id": "bafb79dd-a26a-49b8-8a79-57db6ee31228",
   "metadata": {
    "language": "python",
    "name": "data_2",
    "codeCollapsed": false
   },
   "outputs": [],
   "source": "labor2 = read_data('washington_cafe_stage2_local_favorite_2018_2022.csv')\nlabor2.head()\n\nlabor2 = labor2[-104:]\nlabor2.head()",
   "execution_count": null
  },
  {
   "cell_type": "code",
   "id": "bcae38b5-2e82-463f-b13a-ebd27cf7b1e6",
   "metadata": {
    "language": "python",
    "name": "plot_2",
    "codeCollapsed": false
   },
   "outputs": [],
   "source": "ts_plots(labor2, 'Stage 2 - Local Favorite')",
   "execution_count": null
  },
  {
   "cell_type": "code",
   "id": "f8c1d854-ab06-438a-8a8f-fdd73f67223d",
   "metadata": {
    "language": "python",
    "name": "model_2",
    "codeCollapsed": false
   },
   "outputs": [],
   "source": "# Let's reserve our last 10 weeks for the testing period and \n# And we can see a clear change in the past 2 years, so let's just look at the past 2 years\nlabor2_train = labor2.iloc[-104:-10]\nlabor2_test = labor2.iloc[-10:]\n\n# This time, we'll use a moving average model\n# (0,0,1) means:\n# p = auto-regressive - 0 means none\n# d = differences - 0 means none\n# q = moving average - \n#     1 means use the error from the 1 previous forecast to correct the next\nma_model = ARIMA(labor2_train, order=(0,0,1)).fit()\n\nma_model.summary()",
   "execution_count": null
  },
  {
   "cell_type": "code",
   "id": "e79652b7-7892-4d20-93b1-69e21cd9abd7",
   "metadata": {
    "language": "python",
    "name": "model_2_eval",
    "codeCollapsed": false
   },
   "outputs": [],
   "source": "pred2 = ma_model.predict(start=labor2_test.index[0], end=labor2_test.index[-1])\n\nmae = mean_absolute_error(labor2_test, pred2)\nrmse = math.sqrt(mean_squared_error(labor2_test, pred2))\n\nprint(f'Mean Absolute Error:     {mae}')\nprint(f'Root Mean Squared Error: {rmse}')",
   "execution_count": null
  },
  {
   "cell_type": "code",
   "id": "a1c3c9d0-964a-423d-b56c-3abb69934bdd",
   "metadata": {
    "language": "python",
    "name": "plot_2_predict",
    "codeCollapsed": false
   },
   "outputs": [],
   "source": "plot_predict(labor2_train, labor2_test, pred2, 'Stage 2 - MA Forecast')",
   "execution_count": null
  },
  {
   "cell_type": "markdown",
   "id": "3643f9c1-69b1-4af8-ab66-0f3fa814d447",
   "metadata": {
    "name": "_3_boom",
    "collapsed": false
   },
   "source": "## Business is Booming!\n\nFinally, the business starts to take off and there's a major influx of new business. The hard work, some marketing genius, and great food has paid off. Let's use the data to see if we can predict the growth rather than just react to it after a few stressful shifts."
  },
  {
   "cell_type": "code",
   "id": "c571b815-0d3d-4e20-83f2-4c79ebbe5bc8",
   "metadata": {
    "language": "python",
    "name": "data_3"
   },
   "outputs": [],
   "source": "labor3 = read_data('washington_cafe_stage3_boom_2023.csv')\nlabor3.head()",
   "execution_count": null
  },
  {
   "cell_type": "code",
   "id": "9f19857b-b258-4dbc-ae1d-f3441587a523",
   "metadata": {
    "language": "python",
    "name": "plot_3",
    "codeCollapsed": false
   },
   "outputs": [],
   "source": "def ts_plots(df, title):\n    # Visualize time series raw\n    df.plot(title=title)\n    plt.show()\n    \n    # ACF/PACF\n    plot_acf(df, lags=20)\n    plt.show()\n    \n    plot_pacf(df, lags=20, method='ywm')\n    plt.show()\n\nts_plots(labor3, 'Stage 3 - Boom')",
   "execution_count": null
  },
  {
   "cell_type": "markdown",
   "id": "743f65fe-46a0-4566-9bec-308fb30e3b94",
   "metadata": {
    "name": "plot_3_interpret",
    "collapsed": false
   },
   "source": "There is a clear trend in our data as we see the ACF taper off as the lags increase.\n\nIn the PACF, there is clear correlation in the value before it, but it quickly drops off."
  },
  {
   "cell_type": "code",
   "id": "e086e016-c9d0-472d-b865-8a03cf0155c4",
   "metadata": {
    "language": "python",
    "name": "model_3"
   },
   "outputs": [],
   "source": "y3_train = labor3[:-10]\ny3_test = labor3[-10:]\n\n# 'White noise': (0,0,0),\n    # 'Random walk': (0,1,0),\n    # 'Constant': (0,2,0),\n    # '1st-order regression': (1,0,0),\n    # '2nd-order regression': (2,0,0),\n    # 'Differenced 1st-order': (1,2,0),\n    # 'Simple exponential smoothing': (0,1,1),\n    # '1st-order moving average': (0,0,1),\n    # '2nd-order moving average': (0,0,2),\n    # 'ARMA': (1,0,1),\n    # 'ARIMA': (1,1,1),\n    # 'Damped-trend linear exponential smoothing': (1,1,2),\n    # 'Linear exponential smoothing 1': (0,2,1),\n    # 'Linear exponential smoothing 2': (0,2,2)\n\nplt.rcParams['figure.figsize'] = (10,6)\n\nparams = {\n    'White noise': (0,0,0),\n    'Random walk': (0,1,0),\n    'Constant': (0,2,0),\n    '1st-order regression': (1,0,0),\n    '2nd-order regression': (2,0,0),\n    'Differenced 1st-order': (1,2,0),\n    'Simple exponential smoothing': (0,1,1),\n    '1st-order moving average': (0,0,1),\n    '2nd-order moving average': (0,0,2),\n    'ARMA': (1,0,1),\n    'ARIMA': (1,1,1),\n    'Damped-trend linear exponential smoothing': (1,1,2),\n    'Linear exponential smoothing 1': (0,2,1),\n    'Linear exponential smoothing 2': (0,2,2)\n}\n\npreds = {}\n\nfor label, param in params.items():\n    model = ARIMA(y3_train, order=param).fit()\n    pred = model.predict(start=y3_test.index[0], end=y3_test.index[-1])\n    preds[label] = pred\n\nplt.plot(y3_train.index, y3_train.values, label='train')\nplt.plot(y3_test.index, y3_test.values, label='test')\n\nfor label, pred in preds.items():\n    plt.plot(pred.index, pred.values, linestyle='dashed', label=(label + ' ' + str(params[label])))\n\nplt.title('Stage 3 — ARIMA Forecasts')\nplt.legend()\nplt.show()",
   "execution_count": null
  },
  {
   "cell_type": "code",
   "id": "e9af7acd-9424-4c67-92c7-157768a0b8c5",
   "metadata": {
    "language": "python",
    "name": "model_3_eval",
    "codeCollapsed": false
   },
   "outputs": [],
   "source": "model3 = ARIMA(y3_train, order=(0,2,1)).fit()\n\npred3 = model3.predict(start=y3_test.index[0], end=y3_test.index[-1])\n\nmae = mean_absolute_error(y3_test, pred3)\nrmse = math.sqrt(mean_squared_error(y3_test, pred3))\n\nprint(f'Mean Absolute Error:     {mae}')\nprint(f'Root Mean Squared Error: {rmse}')",
   "execution_count": null
  },
  {
   "cell_type": "code",
   "id": "debe2969-a79c-468d-9f97-0f440ce03366",
   "metadata": {
    "language": "python",
    "name": "plot_3_predict",
    "codeCollapsed": false
   },
   "outputs": [],
   "source": "plot_predict(y3_train, y3_test, pred3, 'Stage 3 - Linear Exponential Smoothing Forecast')",
   "execution_count": null
  },
  {
   "cell_type": "code",
   "id": "f2e51679-4730-4ea2-9f16-5e1fd815e5fa",
   "metadata": {
    "language": "python",
    "name": "arima_all",
    "codeCollapsed": false
   },
   "outputs": [],
   "source": "",
   "execution_count": null
  },
  {
   "cell_type": "markdown",
   "id": "b55d45dc-9df2-44a2-b3d0-a6ae014d8dea",
   "metadata": {
    "name": "_4_fine_dining",
    "collapsed": false
   },
   "source": "## Into Fine Dining\n\nWith that huge growth in business last year, Washington Cafe has decided to transform into a fine dining establishment. As a result, there's more seasonal fluctuation in business (e.g., parent's weekend and holidays). Let's take a look and see if we can build a seasonal model, too."
  },
  {
   "cell_type": "code",
   "id": "2549f14b-dffb-4e83-bca6-f4bdf7876c50",
   "metadata": {
    "language": "python",
    "name": "data_4"
   },
   "outputs": [],
   "source": "labor4 = read_data('washington_cafe_stage4_fine_dining_2024_2026.csv')\nlabor4.head()",
   "execution_count": null
  },
  {
   "cell_type": "code",
   "id": "dbbcf7ae-cdd8-4fb7-a0f0-3f129336cb8d",
   "metadata": {
    "language": "python",
    "name": "plot_4"
   },
   "outputs": [],
   "source": "def ts_plots(df, title):\n    # Visualize time series raw\n    df.plot(title=title)\n    plt.show()\n    \n    # ACF/PACF\n    plot_acf(df, lags=52)\n    plt.show()\n    \n    plot_pacf(df, lags=52, method='ywm')\n    plt.show()\n\nts_plots(labor4, 'Stage 4 - Fine Dining')",
   "execution_count": null
  },
  {
   "cell_type": "code",
   "id": "7f7f21e9-2dbe-4190-91b3-53f7e88a34f7",
   "metadata": {
    "language": "python",
    "name": "plot_diff4",
    "codeCollapsed": false
   },
   "outputs": [],
   "source": "# The seasonality shows up in how high the ACF stays in the first chart\n# So, we need to difference over the past 52 weeks\nlabor4_diff = labor4.diff(52).dropna()\n\nts_plots(labor4_diff, 'Stage 4 (Differenced) - Fine Dining')",
   "execution_count": null
  },
  {
   "cell_type": "code",
   "id": "9884c8da-8a29-495c-8395-bef8051512bf",
   "metadata": {
    "language": "python",
    "name": "cell2"
   },
   "outputs": [],
   "source": "labor4.shape",
   "execution_count": null
  },
  {
   "cell_type": "code",
   "id": "000fd547-4924-44b4-8d1d-63ffaa5863b9",
   "metadata": {
    "language": "python",
    "name": "model_4",
    "codeCollapsed": false
   },
   "outputs": [],
   "source": "y4_train = labor4[:-10]\ny4_test = labor4[-10:]\n\n# SARIMAX(p,d,q)(P,D,Q, s) — starting point (1,1,1)(1,1,1,52)\nmodel4 = SARIMAX(y4_train,\n                order=(1,1,0),\n                seasonal_order=(0,1,1,52),\n                enforce_stationarity=False,\n                enforce_invertibility=False).fit()\nmodel4.summary()",
   "execution_count": null
  },
  {
   "cell_type": "code",
   "id": "ee948a1d-1477-4326-859f-bb472da55f02",
   "metadata": {
    "language": "python",
    "name": "model_4_eval",
    "codeCollapsed": false
   },
   "outputs": [],
   "source": "pred4 = model4.predict(start=y4_test.index[0], end=y4_test.index[-1])\n\nmae = mean_absolute_error(y4_test, pred4)\nrmse = math.sqrt(mean_squared_error(y4_test, pred4))\n\nprint(f'Mean Absolute Error:     {mae}')\nprint(f'Root Mean Squared Error: {rmse}')",
   "execution_count": null
  },
  {
   "cell_type": "code",
   "id": "07e7973e-bee1-4bc3-9a68-796dfc8f243b",
   "metadata": {
    "language": "python",
    "name": "plot_4_predict",
    "codeCollapsed": false
   },
   "outputs": [],
   "source": "plot_predict(y4_train, y4_test, pred4, 'Stage 4 - Fine Dining')",
   "execution_count": null
  }
 ]
}