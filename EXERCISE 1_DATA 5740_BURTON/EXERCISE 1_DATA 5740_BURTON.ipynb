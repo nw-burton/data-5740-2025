{
 "metadata": {
  "kernelspec": {
   "display_name": "Streamlit Notebook",
   "name": "streamlit"
  },
  "lastEditStatus": {
   "notebookId": "oc6orrgcoqthwgl4r7p2",
   "authorId": "8092773048432",
   "authorName": "NWBURTON",
   "authorEmail": "burton.n.w@wustl.edu",
   "sessionId": "dffccc83-f9e6-449a-9443-18cccd70dc3e",
   "lastEditTime": 1756758596582
  }
 },
 "nbformat_minor": 5,
 "nbformat": 4,
 "cells": [
  {
   "cell_type": "markdown",
   "id": "614bbd3b-9bc0-4fca-adcd-aa137e41960f",
   "metadata": {
    "name": "cell5",
    "collapsed": false
   },
   "source": "**Section 1: Programming**\n\nSuppose that you have a Python list containing integers. Write a function called bucketit(L) that\ntakes this list, creates 10 evenly spaced buckets between the min and max values, and counts\nthe number of items that occur within each of those buckets. The output returned from the\nfunction should be a list with tuples in form (min, max, count).\n\nvals = [1, 2, 5, 7, 10, 12, 14, 18, 19, 20, 25, 30, 32, 38, 39, 40]"
  },
  {
   "cell_type": "code",
   "id": "803f708d-923c-4ecf-8f2b-9707f1a53b0c",
   "metadata": {
    "language": "python",
    "name": "cell3",
    "codeCollapsed": false
   },
   "outputs": [],
   "source": "# define values\nvals = [1,2,5,7,10,12,14,18,19,20,25,30,32,38,39,40]\n\ndef bucketit(vals):\n    \n    #define min, max, and bucket width\n    valsmin = min(vals)\n    valsmax = max(vals)\n    width = (valsmax - valsmin)/10\n\n    # create boundaries and bucketes\n    bounds = [round(valsmin + i * width,1) for i in range(11)]  #round to the nearest .1 for floating point precision\n    buckets = [(bounds[i], bounds[i+1]) for i in range(10)]\n    \n    # create empty results list\n    results = []\n\n    #loop through each set of bounds in the buckets\n    for b in buckets:\n        \n        #set the count at 0\n        count = 0\n\n        # loop through values list\n        for v in vals:\n\n            # if the value is between the bounds, add 1 to the count\n            if (v >= b[0] and v < b[1]) or (b[1] == valsmax and v == valsmax):\n                count += 1\n\n        #create a tuple of the upper bound, lower bound, and count\n        result = (b[0],b[1],count)        \n\n        # append the tuple to the results list\n        results.append(result)\n        \n    print(results)\n\nbucketit(vals)",
   "execution_count": null
  },
  {
   "cell_type": "markdown",
   "id": "94689a99-448c-4d14-a038-cfd7b3457e99",
   "metadata": {
    "name": "cell1",
    "collapsed": false
   },
   "source": "**Section 2: Programming with AI**\n\n1. Take the same assignment from above and plug it into your favorite AI tool. Put the function\nthe AI created into your Notebook and demonstrate the same test you used for your function.\n"
  },
  {
   "cell_type": "code",
   "id": "eaa6e791-9562-4546-829f-f9a14c4322c2",
   "metadata": {
    "language": "python",
    "name": "cell4",
    "codeCollapsed": false
   },
   "outputs": [],
   "source": "def bucketit(L):\n    if not L:\n        return []\n    \n    L_min = min(L)\n    L_max = max(L)\n    \n    width = (L_max - L_min) / 10  # width of each bucket\n    buckets = []\n    \n    # Create 10 buckets\n    for i in range(10):\n        b_min = L_min + i * width\n        b_max = L_min + (i + 1) * width\n        count = sum(1 for x in L if (x >= b_min and x < b_max) or (i == 9 and x == L_max))\n        buckets.append((b_min, b_max, count))\n    \n    return buckets\n\nvals = [1, 2, 5, 7, 10, 12, 14, 18, 19, 20, 25, 30, 32, 38, 39, 40]\nprint(bucketit(vals))\n",
   "execution_count": null
  },
  {
   "cell_type": "markdown",
   "id": "2d5315ba-544d-42cc-9901-f1b29d4b820e",
   "metadata": {
    "name": "cell2",
    "collapsed": false
   },
   "source": "a. Yes the results are the same. The AI version of this code took a much simpler approach to this, but the results are the same.\n\nb. No, I am familiar with all parts of this code, but the thinking in the AI code is more complex and gives a more simplistic result.\n\nc. The major difference in my result and the AI result is the simplicity of the code and the order in which we took our steps. These were my key steps:\n    1. Determine the min, max, and bin width\n    2. create the boundaries\n    3. create a list of 2-value lists that contained the upper and lower bounds for each bucket\n    4. loop through the buckets and the values, adding 1 to the count if the value falls in the bucket\n    5. create a tuple of the upper and lower bounds and the count\n    6. append that tuple to the empty results list\n\nThe steps followed by the AI result were:\n    1. determine the min, max, and bin width\n    2. perform a loop 10 times (once to create each bucket)\n    3. calculate the lower bound, the upper bound, and then loop through the values and count 1 for each value between the bounds\n    4. append the resulting values for each loop as a tuple to the results list\n\nWhile accomplishing the same results, the AI version did this in fewer steps and lines of code, combining some of my steps into one step."
  },
  {
   "cell_type": "markdown",
   "id": "5c6aad8b-67ed-44e2-aa98-24e3f771b15a",
   "metadata": {
    "name": "cell6",
    "collapsed": false
   },
   "source": "I think AI will help me in this course by teaching me more efficient ways of doing things. I can grasp the steps I need to take to get from problem to result, but I often have a more step-wise approach to getting there, as seen in my response to this problem. I think utilizing AI will reveal to me ways to combine steps or alter syntax to get the same result in fewer lines of code, making for more efficient coding."
  }
 ]
}